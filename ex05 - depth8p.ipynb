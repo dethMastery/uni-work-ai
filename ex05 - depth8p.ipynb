{
 "cells": [
  {
   "cell_type": "code",
   "execution_count": null,
   "metadata": {},
   "outputs": [],
   "source": [
    "initial_state = [1, 2, 3, 4, 0, 5, 6, 7, 8]\n",
    "# initial_state = [1, 2, 3, 0, 4, 6, 7, 5, 8]\n",
    "goal_puzzle = [1, 2, 3, 4, 5, 6, 7, 8, 0]"
   ]
  },
  {
   "cell_type": "code",
   "execution_count": 7,
   "metadata": {},
   "outputs": [
    {
     "data": {
      "text/plain": [
       "'1 2 3\\n4 0 5\\n6 7 8'"
      ]
     },
     "execution_count": 7,
     "metadata": {},
     "output_type": "execute_result"
    }
   ],
   "source": [
    "'\\n'.join([' '.join(map(str, initial_state[i:i + 3])) for i in range(0, len(initial_state), 3)])"
   ]
  },
  {
   "cell_type": "code",
   "execution_count": 5,
   "metadata": {},
   "outputs": [
    {
     "name": "stdout",
     "output_type": "stream",
     "text": [
      "1 2 3\n",
      "4 0 5\n",
      "6 7 8\n",
      "\n",
      "Solution Path: ['right', 'down', 'left', 'left', 'up', 'right', 'right', 'down', 'left', 'up', 'right', 'down', 'left', 'up', 'left', 'down', 'right', 'right']\n"
     ]
    }
   ],
   "source": [
    "from depth_8p_limit import PuzzleState, depth_limit_search\n",
    "init = PuzzleState(initial_state)\n",
    "goal_state = PuzzleState(goal_puzzle)\n",
    "print(str(init))\n",
    "\n",
    "solution_path = depth_limit_search(init, goal_state, limit=20)\n",
    "\n",
    "if solution_path:\n",
    "    print(f\"Solution Path: {solution_path}\")\n",
    "else:\n",
    "    print(\"No solution found.\")"
   ]
  },
  {
   "cell_type": "code",
   "execution_count": 3,
   "metadata": {},
   "outputs": [
    {
     "name": "stdout",
     "output_type": "stream",
     "text": [
      "1 2 3\n",
      "4 0 5\n",
      "6 7 8\n",
      "\n"
     ]
    }
   ],
   "source": [
    "from ex05_depth8p import PuzzleState\n",
    "\n",
    "init = PuzzleState(initial_state)\n",
    "print(str(init))"
   ]
  }
 ],
 "metadata": {
  "kernelspec": {
   "display_name": "Python 3",
   "language": "python",
   "name": "python3"
  },
  "language_info": {
   "codemirror_mode": {
    "name": "ipython",
    "version": 3
   },
   "file_extension": ".py",
   "mimetype": "text/x-python",
   "name": "python",
   "nbconvert_exporter": "python",
   "pygments_lexer": "ipython3",
   "version": "3.11.4"
  }
 },
 "nbformat": 4,
 "nbformat_minor": 2
}
